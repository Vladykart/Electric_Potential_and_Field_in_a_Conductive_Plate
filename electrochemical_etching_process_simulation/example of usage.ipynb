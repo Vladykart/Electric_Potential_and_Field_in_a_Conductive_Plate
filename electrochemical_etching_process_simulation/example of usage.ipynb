{
 "cells": [
  {
   "cell_type": "code",
   "execution_count": 14,
   "id": "initial_id",
   "metadata": {
    "collapsed": true,
    "ExecuteTime": {
     "end_time": "2023-10-16T11:02:52.516199Z",
     "start_time": "2023-10-16T11:02:52.508281Z"
    }
   },
   "outputs": [],
   "source": [
    "from EEP import *"
   ]
  },
  {
   "cell_type": "code",
   "execution_count": 0,
   "outputs": [],
   "source": [
    "# Define parameters\n",
    "width = 5\n",
    "height = 4\n",
    "dz = 0.01\n",
    "k = 0.0001\n",
    "time_steps = 100\n",
    "dt = 1\n",
    "J_1D = np.ones(int(5 / 0.01))  # Define J_1D here"
   ],
   "metadata": {
    "collapsed": false
   },
   "id": "9b280c0ed5486a25"
  },
  {
   "cell_type": "code",
   "execution_count": 16,
   "outputs": [
    {
     "ename": "AttributeError",
     "evalue": "'Layer' object has no attribute 'show'",
     "output_type": "error",
     "traceback": [
      "\u001B[0;31m---------------------------------------------------------------------------\u001B[0m",
      "\u001B[0;31mAttributeError\u001B[0m                            Traceback (most recent call last)",
      "Cell \u001B[0;32mIn[16], line 3\u001B[0m\n\u001B[1;32m      1\u001B[0m \u001B[38;5;66;03m# Create substrate\u001B[39;00m\n\u001B[1;32m      2\u001B[0m substrate \u001B[38;5;241m=\u001B[39m Layer(width, \u001B[38;5;241m5\u001B[39m, dz)\n\u001B[0;32m----> 3\u001B[0m \u001B[43msubstrate\u001B[49m\u001B[38;5;241;43m.\u001B[39;49m\u001B[43mshow\u001B[49m()\n",
      "\u001B[0;31mAttributeError\u001B[0m: 'Layer' object has no attribute 'show'"
     ]
    }
   ],
   "source": [
    "\n",
    "# Create substrate\n",
    "substrate = Layer(width, 5, dz)\n",
    "substrate.show()"
   ],
   "metadata": {
    "collapsed": false,
    "ExecuteTime": {
     "end_time": "2023-10-16T16:42:37.587847Z",
     "start_time": "2023-10-16T16:42:37.555573Z"
    }
   },
   "id": "3bbc13a9d50a232d"
  },
  {
   "cell_type": "code",
   "execution_count": null,
   "outputs": [],
   "source": [
    "# Create domain\n",
    "domain = SimulationDomain(width, height, dz, J_1D)"
   ],
   "metadata": {
    "collapsed": false
   },
   "id": "acfb67ef2b5b1d82"
  },
  {
   "cell_type": "code",
   "execution_count": null,
   "outputs": [],
   "source": [
    "# Create simulation\n",
    "simulation = EtchingSimulation(domain, substrate, k, J_1D)"
   ],
   "metadata": {
    "collapsed": false
   },
   "id": "77162a0678550305"
  },
  {
   "cell_type": "code",
   "execution_count": null,
   "outputs": [],
   "source": [
    "# Run simulation\n",
    "history = simulation.run(time_steps, dt)"
   ],
   "metadata": {
    "collapsed": false
   },
   "id": "981a4013c382388e"
  },
  {
   "cell_type": "code",
   "execution_count": null,
   "outputs": [],
   "source": [
    "# Convert history to 2D array for visualization\n",
    "history_2d = np.array(history).T"
   ],
   "metadata": {
    "collapsed": false
   },
   "id": "347022082cf0c743"
  },
  {
   "cell_type": "code",
   "execution_count": null,
   "outputs": [],
   "source": [
    "# Create initial data for visualization\n",
    "initial_data = history_2d[:, 0].reshape(-1, 1)"
   ],
   "metadata": {
    "collapsed": false
   },
   "id": "e3ed6b85002830e"
  },
  {
   "cell_type": "code",
   "execution_count": null,
   "outputs": [],
   "source": [
    "\n",
    "# Create visualization\n",
    "visualization = Visualization(initial_data)\n"
   ],
   "metadata": {
    "collapsed": false
   },
   "id": "66f8f29f78384bf1"
  },
  {
   "cell_type": "code",
   "execution_count": null,
   "outputs": [],
   "source": [
    "# Animate history\n",
    "ani = visualization.animate(history_2d)\n"
   ],
   "metadata": {
    "collapsed": false
   },
   "id": "2cd4741eb682bc39"
  }
 ],
 "metadata": {
  "kernelspec": {
   "display_name": "Python 3",
   "language": "python",
   "name": "python3"
  },
  "language_info": {
   "codemirror_mode": {
    "name": "ipython",
    "version": 2
   },
   "file_extension": ".py",
   "mimetype": "text/x-python",
   "name": "python",
   "nbconvert_exporter": "python",
   "pygments_lexer": "ipython2",
   "version": "2.7.6"
  }
 },
 "nbformat": 4,
 "nbformat_minor": 5
}
