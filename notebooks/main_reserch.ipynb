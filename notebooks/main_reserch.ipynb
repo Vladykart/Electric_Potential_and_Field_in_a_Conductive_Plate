{
 "cells": [
  {
   "cell_type": "code",
   "execution_count": 8,
   "id": "initial_id",
   "metadata": {
    "collapsed": true,
    "ExecuteTime": {
     "end_time": "2023-10-16T16:46:50.786835Z",
     "start_time": "2023-10-16T16:46:50.780223Z"
    }
   },
   "outputs": [],
   "source": [
    "import numpy as np\n",
    "import matplotlib.pyplot as plt\n",
    "from scipy.sparse import diags\n",
    "from scipy.sparse.linalg import inv, LinearOperator, cg\n"
   ]
  },
  {
   "cell_type": "code",
   "execution_count": 9,
   "outputs": [
    {
     "data": {
      "text/plain": "<matplotlib.image.AxesImage at 0x13e980dc0>"
     },
     "execution_count": 9,
     "metadata": {},
     "output_type": "execute_result"
    },
    {
     "data": {
      "text/plain": "<Figure size 640x480 with 1 Axes>",
      "image/png": "[encoded data removed]"
     },
     "metadata": {},
     "output_type": "display_data"
    }
   ],
   "source": [
    "width, height, accuracy, resistance = 80, 100, 1e-4, 1\n",
    "contacts = [\n",
    "    (0, -40, 1.1),  # x, y, potential\n",
    "    (0, 40, 1.1),\n",
    "    (-30, 0, 1.1),\n",
    "    (30, 0, 1.1), ]\n",
    "\n",
    "\n",
    "def configure_plate(width, height, contacts):\n",
    "    plate = np.zeros((height, width))\n",
    "    for x, y, potential in contacts:\n",
    "        plate[y + height // 2, x + width // 2] = potential  # add offsets to x and y\n",
    "    return plate\n",
    "\n",
    "\n",
    "plate = configure_plate(\n",
    "    width=width,\n",
    "    height=height,\n",
    "    contacts=contacts, )\n",
    "\n",
    "plt.imshow(plate)"
   ],
   "metadata": {
    "collapsed": false,
    "ExecuteTime": {
     "end_time": "2023-10-16T16:46:56.594718Z",
     "start_time": "2023-10-16T16:46:56.513281Z"
    }
   },
   "id": "be55af1d5bd923bb"
  },
  {
   "cell_type": "code",
   "execution_count": 10,
   "outputs": [],
   "source": [
    "def jacobi(A):\n",
    "    d = A.diagonal()\n",
    "    D = diags(d).tocsc()  # convert D to CSC format\n",
    "    M_inv = inv(D)\n",
    "    return M_inv"
   ],
   "metadata": {
    "collapsed": false,
    "ExecuteTime": {
     "end_time": "2023-10-16T16:47:03.397617Z",
     "start_time": "2023-10-16T16:47:03.395922Z"
    }
   },
   "id": "52e2258c52ed1334"
  },
  {
   "cell_type": "code",
   "execution_count": 11,
   "outputs": [],
   "source": [
    "def solve_poisson(plate, resistance, accuracy):\n",
    "    \"\"\"\n",
    "    Solve the Poisson equation for a plate with the given resistance and accuracy.\n",
    "    plate is a 2D array of the plate potential. Resistance is the resistance of the plate material. Accuracy is the desired accuracy of the solution.  \n",
    "    Accuracy is the desired accuracy of the solution.\n",
    "    :param plate: \n",
    "    :param resistance: \n",
    "    :param accuracy: \n",
    "    :return: \n",
    "    return Example:\n",
    "    \"\"\"\n",
    "    height, width = plate.shape  # get the dimensions of the plate\n",
    "    size = height * width  #  get the total number of points\n",
    "    conductivity = 1 / resistance  # calculate the conductivity of the plate material (inverse of resistance)  \n",
    "    main_diag = np.ones(size) * -4 * conductivity  # create the main diagonal of the matrix (4 * conductivity) \n",
    "    off_diags = np.ones(size - 1) * conductivity  # create the off diagonals of the matrix (conductivity) \n",
    "    diagonals = [main_diag, off_diags, off_diags, off_diags, off_diags]  # create the diagonals of the matrix \n",
    "    A = diags(diagonals, [0, -1, 1, -width,\n",
    "                          width]).tocsr()  # create the matrix A that represents the system of linear equations by using the diagonals and offsets and convert it to CSR format\n",
    "\n",
    "    # Prepare the RHS vector\n",
    "    plate_flat = plate.flatten()  # flatten the plate to a 1D array \n",
    "    b = -plate_flat  # RHS vector is the negative of the plate potential\n",
    "\n",
    "    # Enforce boundary conditions\n",
    "    b[:width] = 0  # set the top row to 0 \n",
    "    b[-width:] = 0  # set the bottom row to 0\n",
    "    b[::width] = 0  # set the left column to 0\n",
    "    b[width - 1:: width] = 0  # set the right column to 0\n",
    "\n",
    "    # Initial guess for the solution\n",
    "    solution = np.zeros_like(b)  # create an array of zeros with the same shape as b \n",
    "\n",
    "    # Define preconditioner\n",
    "    M_inv = jacobi(A)  # use the jacobi function to get the inverse of the diagonal matrix \n",
    "    M = LinearOperator((size, size),\n",
    "                       matvec=M_inv.dot)  # create a linear operator that applies the inverse of the diagonal matrix to a vector by matrix multiplication\n",
    "\n",
    "    while True:  # loop until the solution converges to the desired accuracy \n",
    "        # Solve the system of linear equations using the conjugate gradient method\n",
    "        new_solution, _ = cg(A, b + A.dot(solution), x0=solution, tol=accuracy,\n",
    "                             M=M)  # use the conjugate gradient method to solve the system of linear equations and get the new solution\n",
    "        diff = np.linalg.norm(\n",
    "            new_solution - solution)  # calculate the difference between the new solution and the previous solution \n",
    "\n",
    "        if diff < accuracy:  # check if the difference is less than the desired accuracy \n",
    "            break  # if the difference is less than the desired accuracy, break out of the loop\n",
    "        solution = new_solution  # if the difference is not less than the desired accuracy, set the new solution to the solution variable and continue the loop and solve the system of linear equations again\n",
    "\n",
    "    return solution.reshape((height, width))  # reshape the solution to the shape of the plate and return it "
   ],
   "metadata": {
    "collapsed": false,
    "ExecuteTime": {
     "end_time": "2023-10-16T16:47:07.349466Z",
     "start_time": "2023-10-16T16:47:07.341700Z"
    }
   },
   "id": "c31682a50a819b8b"
  },
  {
   "cell_type": "code",
   "execution_count": 12,
   "outputs": [],
   "source": [
    "def plot_results(plate, x, y, E_x, E_y, contacts, width, height, title=''):\n",
    "    fig, ax = plt.subplots(1, 2, figsize=(16, 7))\n",
    "\n",
    "    contour = ax[0].contourf(x, y, plate, cmap=\"hot\")\n",
    "    for contact in contacts:\n",
    "        ax[0].plot(contact[0] + width // 2, contact[1] + height // 2, \"wo\")\n",
    "    ax[0].set_xlim([-width // 2, width // 2])\n",
    "    ax[0].set_ylim([-height // 2, height // 2])\n",
    "    fig.colorbar(contour, ax=ax[0], label=\"Potential\")\n",
    "    ax[0].set_title(f\"Electric Potential ({title})\")\n",
    "\n",
    "    ax[1].quiver(x, y, E_x, E_y, scale=5)\n",
    "    for contact in contacts:\n",
    "        ax[1].plot(contact[0] + width // 2, contact[1] + height // 2, \"wo\")\n",
    "    ax[1].set_xlim([-width // 2, width // 2])\n",
    "    ax[1].set_ylim([-height // 2, height // 2])\n",
    "    ax[1].set_title(f\"Electric Field ({title})\")\n",
    "\n",
    "    plt.show()\n",
    "\n"
   ],
   "metadata": {
    "collapsed": false,
    "ExecuteTime": {
     "end_time": "2023-10-16T16:47:17.234620Z",
     "start_time": "2023-10-16T16:47:17.231280Z"
    }
   },
   "id": "f6597e4d43f2db6a"
  },
  {
   "cell_type": "code",
   "execution_count": 13,
   "outputs": [
    {
     "data": {
      "text/plain": "array([[[[ 1.02547215e+01,  1.39590864e+01,  1.55156864e+01, ...,\n           2.05628957e+01,  2.13664507e+01,  2.29844109e+01],\n         [ 2.72499101e+01,  3.02362840e+01,  3.20120609e+01, ...,\n           4.09920925e+01,  4.20754762e+01,  4.35898999e+01],\n         [ 4.58812328e+01,  4.79763598e+01,  4.95289287e+01, ...,\n           6.12929535e+01,  6.23685043e+01,  6.35792944e+01],\n         ...,\n         [ 6.77852628e+01,  6.65840572e+01,  6.56581264e+01, ...,\n           5.31093069e+01,  5.16568480e+01,  4.95167294e+01],\n         [ 4.69629584e+01,  4.53783819e+01,  4.43973063e+01, ...,\n           3.45875034e+01,  3.28232738e+01,  2.96389215e+01],\n         [ 2.49840185e+01,  2.32281927e+01,  2.24402298e+01, ...,\n           1.68447416e+01,  1.52150566e+01,  1.12285271e+01]],\n\n        [[-4.00000000e+01, -3.90000000e+01, -3.80000000e+01, ...,\n           3.70000000e+01,  3.80000000e+01,  3.90000000e+01],\n         [-4.00000000e+01, -3.90000000e+01, -3.80000000e+01, ...,\n           3.70000000e+01,  3.80000000e+01,  3.90000000e+01],\n         [-4.00000000e+01, -3.90000000e+01, -3.80000000e+01, ...,\n           3.70000000e+01,  3.80000000e+01,  3.90000000e+01],\n         ...,\n         [-4.00000000e+01, -3.90000000e+01, -3.80000000e+01, ...,\n           3.70000000e+01,  3.80000000e+01,  3.90000000e+01],\n         [-4.00000000e+01, -3.90000000e+01, -3.80000000e+01, ...,\n           3.70000000e+01,  3.80000000e+01,  3.90000000e+01],\n         [-4.00000000e+01, -3.90000000e+01, -3.80000000e+01, ...,\n           3.70000000e+01,  3.80000000e+01,  3.90000000e+01]],\n\n        [[-5.00000000e+01, -5.00000000e+01, -5.00000000e+01, ...,\n          -5.00000000e+01, -5.00000000e+01, -5.00000000e+01],\n         [-4.90000000e+01, -4.90000000e+01, -4.90000000e+01, ...,\n          -4.90000000e+01, -4.90000000e+01, -4.90000000e+01],\n         [-4.80000000e+01, -4.80000000e+01, -4.80000000e+01, ...,\n          -4.80000000e+01, -4.80000000e+01, -4.80000000e+01],\n         ...,\n         [ 4.70000000e+01,  4.70000000e+01,  4.70000000e+01, ...,\n           4.70000000e+01,  4.70000000e+01,  4.70000000e+01],\n         [ 4.80000000e+01,  4.80000000e+01,  4.80000000e+01, ...,\n           4.80000000e+01,  4.80000000e+01,  4.80000000e+01],\n         [ 4.90000000e+01,  4.90000000e+01,  4.90000000e+01, ...,\n           4.90000000e+01,  4.90000000e+01,  4.90000000e+01]],\n\n        [[-3.70436486e+00, -2.63048243e+00, -1.14002149e+00, ...,\n          -6.42821226e-01, -1.21075760e+00, -1.61796017e+00],\n         [-2.98637392e+00, -2.38107542e+00, -1.37746738e+00, ...,\n          -9.20439707e-01, -1.29890370e+00, -1.51442375e+00],\n         [-2.09512702e+00, -1.82384794e+00, -1.24298780e+00, ...,\n          -9.84345980e-01, -1.14317047e+00, -1.21079012e+00],\n         ...,\n         [ 1.20120555e+00,  1.06356821e+00,  8.95481657e-01, ...,\n           1.17070517e+00,  1.79628879e+00,  2.14011862e+00],\n         [ 1.58457652e+00,  1.28282602e+00,  8.61799670e-01, ...,\n           1.39223441e+00,  2.47429098e+00,  3.18435234e+00],\n         [ 1.75582582e+00,  1.27189435e+00,  6.40416046e-01, ...,\n           1.18912685e+00,  2.80810725e+00,  3.98652945e+00]],\n\n        [[-1.69951886e+01, -1.62771976e+01, -1.64963745e+01, ...,\n          -2.04291969e+01, -2.07090255e+01, -2.06054891e+01],\n         [-1.78132556e+01, -1.70086367e+01, -1.70066211e+01, ...,\n          -2.03650289e+01, -2.05010268e+01, -2.02974418e+01],\n         [-1.88875686e+01, -1.81564574e+01, -1.78664951e+01, ...,\n          -2.01287486e+01, -2.01065084e+01, -1.98329295e+01],\n         ...,\n         [ 2.04356013e+01,  2.07546208e+01,  2.08501181e+01, ...,\n           1.87025090e+01,  1.90512411e+01,  1.98871045e+01],\n         [ 2.14006221e+01,  2.16779323e+01,  2.16089483e+01, ...,\n           1.81322827e+01,  1.82208957e+01,  1.91441011e+01],\n         [ 2.19789399e+01,  2.21501892e+01,  2.19570765e+01, ...,\n           1.77427618e+01,  1.76082173e+01,  1.84103944e+01]]],\n\n\n       [[[ 6.97434354e+07,  9.50250338e+07,  1.05752834e+08, ...,\n           1.36285057e+08,  1.42049944e+08,  1.53923781e+08],\n         [ 1.83823433e+08,  2.04603512e+08,  2.16995158e+08, ...,\n           2.70198666e+08,  2.77974134e+08,  2.89707663e+08],\n         [ 3.06937638e+08,  3.22099654e+08,  3.33120118e+08, ...,\n           4.01653344e+08,  4.09668557e+08,  4.19726838e+08],\n         ...,\n         [ 4.24501926e+08,  4.14938017e+08,  4.07208588e+08, ...,\n           3.35390150e+08,  3.24659108e+08,  3.09881281e+08],\n         [ 2.92976622e+08,  2.81569071e+08,  2.74000301e+08, ...,\n           2.18471671e+08,  2.06153527e+08,  1.85537233e+08],\n         [ 1.55655229e+08,  1.43890449e+08,  1.38199869e+08, ...,\n           1.06454474e+08,  9.57289351e+07,  7.03457128e+07]],\n\n        [[-4.00000000e+01, -3.90000000e+01, -3.80000000e+01, ...,\n           3.70000000e+01,  3.80000000e+01,  3.90000000e+01],\n         [-4.00000000e+01, -3.90000000e+01, -3.80000000e+01, ...,\n           3.70000000e+01,  3.80000000e+01,  3.90000000e+01],\n         [-4.00000000e+01, -3.90000000e+01, -3.80000000e+01, ...,\n           3.70000000e+01,  3.80000000e+01,  3.90000000e+01],\n         ...,\n         [-4.00000000e+01, -3.90000000e+01, -3.80000000e+01, ...,\n           3.70000000e+01,  3.80000000e+01,  3.90000000e+01],\n         [-4.00000000e+01, -3.90000000e+01, -3.80000000e+01, ...,\n           3.70000000e+01,  3.80000000e+01,  3.90000000e+01],\n         [-4.00000000e+01, -3.90000000e+01, -3.80000000e+01, ...,\n           3.70000000e+01,  3.80000000e+01,  3.90000000e+01]],\n\n        [[-5.00000000e+01, -5.00000000e+01, -5.00000000e+01, ...,\n          -5.00000000e+01, -5.00000000e+01, -5.00000000e+01],\n         [-4.90000000e+01, -4.90000000e+01, -4.90000000e+01, ...,\n          -4.90000000e+01, -4.90000000e+01, -4.90000000e+01],\n         [-4.80000000e+01, -4.80000000e+01, -4.80000000e+01, ...,\n          -4.80000000e+01, -4.80000000e+01, -4.80000000e+01],\n         ...,\n         [ 4.70000000e+01,  4.70000000e+01,  4.70000000e+01, ...,\n           4.70000000e+01,  4.70000000e+01,  4.70000000e+01],\n         [ 4.80000000e+01,  4.80000000e+01,  4.80000000e+01, ...,\n           4.80000000e+01,  4.80000000e+01,  4.80000000e+01],\n         [ 4.90000000e+01,  4.90000000e+01,  4.90000000e+01, ...,\n           4.90000000e+01,  4.90000000e+01,  4.90000000e+01]],\n\n        [[-2.52815984e+07, -1.80046991e+07, -7.95878980e+06, ...,\n          -4.51070115e+06, -8.81936224e+06, -1.18738368e+07],\n         [-2.07800792e+07, -1.65858628e+07, -9.86509392e+06, ...,\n          -6.46735265e+06, -9.75449824e+06, -1.17335285e+07],\n         [-1.51620163e+07, -1.30912403e+07, -9.24343907e+06, ...,\n          -7.03306120e+06, -9.03674686e+06, -1.00582808e+07],\n         ...,\n         [ 9.56390886e+06,  8.64666877e+06,  6.93089596e+06, ...,\n           9.20692476e+06,  1.27544342e+07,  1.47778266e+07],\n         [ 1.14075510e+07,  9.48816064e+06,  6.40513704e+06, ...,\n           9.93535519e+06,  1.64672192e+07,  2.06162944e+07],\n         [ 1.17647799e+07,  8.72767970e+06,  4.50091186e+06, ...,\n           8.01592883e+06,  1.80543808e+07,  2.53832223e+07]],\n\n        [[-1.14079998e+08, -1.09578478e+08, -1.11242325e+08, ...,\n          -1.33913610e+08, -1.35924190e+08, -1.35783882e+08],\n         [-1.18597101e+08, -1.13537310e+08, -1.13683642e+08, ...,\n          -1.32684144e+08, -1.33809306e+08, -1.32901528e+08],\n         [-1.23998066e+08, -1.19357758e+08, -1.17722513e+08, ...,\n          -1.30469238e+08, -1.30444375e+08, -1.28911432e+08],\n         ...,\n         [ 1.30343965e+08,  1.32051296e+08,  1.32197539e+08, ...,\n           1.18568519e+08,  1.20349619e+08,  1.25225576e+08],\n         [ 1.34423348e+08,  1.35523784e+08,  1.34504359e+08, ...,\n           1.14467838e+08,  1.14465086e+08,  1.19767784e+08],\n         [ 1.37321393e+08,  1.37678622e+08,  1.35800431e+08, ...,\n           1.12017197e+08,  1.10424592e+08,  1.15191520e+08]]],\n\n\n       [[[ 2.72508840e+14,  3.71506807e+14,  4.14949386e+14, ...,\n           5.34805497e+14,  5.55333820e+14,  6.01178848e+14],\n         [ 7.17832621e+14,  7.99830899e+14,  8.51227709e+14, ...,\n           1.06068147e+15,  1.08723697e+15,  1.13072325e+15],\n         [ 1.19706250e+15,  1.25840127e+15,  1.30537228e+15, ...,\n           1.57474959e+15,  1.60098780e+15,  1.63713571e+15],\n         ...,\n         [ 1.64703102e+15,  1.61082402e+15,  1.58454691e+15, ...,\n           1.31281116e+15,  1.26572635e+15,  1.20416468e+15],\n         [ 1.13755674e+15,  1.09391632e+15,  1.06728821e+15, ...,\n           8.56077627e+14,  8.04480902e+14,  7.22085810e+14],\n         [ 6.04810178e+14,  5.58742240e+14,  5.38131792e+14, ...,\n           4.17312634e+14,  3.73660174e+14,  2.74110908e+14]],\n\n        [[-4.00000000e+01, -3.90000000e+01, -3.80000000e+01, ...,\n           3.70000000e+01,  3.80000000e+01,  3.90000000e+01],\n         [-4.00000000e+01, -3.90000000e+01, -3.80000000e+01, ...,\n           3.70000000e+01,  3.80000000e+01,  3.90000000e+01],\n         [-4.00000000e+01, -3.90000000e+01, -3.80000000e+01, ...,\n           3.70000000e+01,  3.80000000e+01,  3.90000000e+01],\n         ...,\n         [-4.00000000e+01, -3.90000000e+01, -3.80000000e+01, ...,\n           3.70000000e+01,  3.80000000e+01,  3.90000000e+01],\n         [-4.00000000e+01, -3.90000000e+01, -3.80000000e+01, ...,\n           3.70000000e+01,  3.80000000e+01,  3.90000000e+01],\n         [-4.00000000e+01, -3.90000000e+01, -3.80000000e+01, ...,\n           3.70000000e+01,  3.80000000e+01,  3.90000000e+01]],\n\n        [[-5.00000000e+01, -5.00000000e+01, -5.00000000e+01, ...,\n          -5.00000000e+01, -5.00000000e+01, -5.00000000e+01],\n         [-4.90000000e+01, -4.90000000e+01, -4.90000000e+01, ...,\n          -4.90000000e+01, -4.90000000e+01, -4.90000000e+01],\n         [-4.80000000e+01, -4.80000000e+01, -4.80000000e+01, ...,\n          -4.80000000e+01, -4.80000000e+01, -4.80000000e+01],\n         ...,\n         [ 4.70000000e+01,  4.70000000e+01,  4.70000000e+01, ...,\n           4.70000000e+01,  4.70000000e+01,  4.70000000e+01],\n         [ 4.80000000e+01,  4.80000000e+01,  4.80000000e+01, ...,\n           4.80000000e+01,  4.80000000e+01,  4.80000000e+01],\n         [ 4.90000000e+01,  4.90000000e+01,  4.90000000e+01, ...,\n           4.90000000e+01,  4.90000000e+01,  4.90000000e+01]],\n\n        [[-9.89979667e+13, -7.12202730e+13, -3.28289549e+13, ...,\n          -1.56682655e+13, -3.31866753e+13, -4.58450276e+13],\n         [-8.19982783e+13, -6.66975444e+13, -4.17010647e+13, ...,\n          -2.18892044e+13, -3.50208921e+13, -4.34862842e+13],\n         [-6.13387641e+13, -5.41548866e+13, -4.05908454e+13, ...,\n          -2.25172201e+13, -3.11930574e+13, -3.61479089e+13],\n         ...,\n         [ 3.62069990e+13,  3.12420543e+13,  2.25508117e+13, ...,\n           4.06588035e+13,  5.43232412e+13,  6.15616740e+13],\n         [ 4.36404275e+13,  3.51342654e+13,  2.19490610e+13, ...,\n           4.18357137e+13,  6.69959085e+13,  8.23950917e+13],\n         [ 4.60679380e+13,  3.33391933e+13,  1.57266839e+13, ...,\n           3.29703343e+13,  7.16008632e+13,  9.95492666e+13]],\n\n        [[-4.45323781e+14, -4.28324092e+14, -4.36278324e+14, ...,\n          -5.25875971e+14, -5.31903148e+14, -5.29544404e+14],\n         [-4.62276833e+14, -4.43447231e+14, -4.45211446e+14, ...,\n          -5.19972049e+14, -5.22826990e+14, -5.17978431e+14],\n         [-4.82782235e+14, -4.65504875e+14, -4.59789104e+14, ...,\n          -5.09964546e+14, -5.08438660e+14, -5.01378908e+14],\n         ...,\n         [ 5.04403529e+14,  5.11554063e+14,  5.13125797e+14, ...,\n           4.62407123e+14,  4.68217582e+14,  4.85651751e+14],\n         [ 5.21110422e+14,  5.26040891e+14,  5.23207561e+14, ...,\n           4.47749263e+14,  4.46033088e+14,  4.65026885e+14],\n         [ 5.32746565e+14,  5.35174075e+14,  5.29156420e+14, ...,\n           4.38764993e+14,  4.30820728e+14,  4.47974903e+14]]],\n\n\n       [[[ 8.42148242e+20,  1.14918225e+21,  1.28276895e+21, ...,\n           1.65339439e+21,  1.71766847e+21,  1.85813905e+21],\n         [ 2.21895170e+21,  2.47292133e+21,  2.63110783e+21, ...,\n           3.27768309e+21,  3.36075199e+21,  3.49539800e+21],\n         [ 3.70171527e+21,  3.89044634e+21,  4.03486510e+21, ...,\n           4.86720331e+21,  4.94899304e+21,  5.06064072e+21],\n         ...,\n         [ 5.07546649e+21,  4.96375151e+21,  4.88195509e+21, ...,\n           4.04607207e+21,  3.90145448e+21,  3.71237423e+21],\n         [ 3.50564746e+21,  3.37078583e+21,  3.28763298e+21, ...,\n           2.63841997e+21,  2.47991585e+21,  2.22533478e+21],\n         [ 1.86358399e+21,  1.72279442e+21,  1.65841339e+21, ...,\n           1.28633027e+21,  1.15242438e+21,  8.44556913e+20]],\n\n        [[-4.00000000e+01, -3.90000000e+01, -3.80000000e+01, ...,\n           3.70000000e+01,  3.80000000e+01,  3.90000000e+01],\n         [-4.00000000e+01, -3.90000000e+01, -3.80000000e+01, ...,\n           3.70000000e+01,  3.80000000e+01,  3.90000000e+01],\n         [-4.00000000e+01, -3.90000000e+01, -3.80000000e+01, ...,\n           3.70000000e+01,  3.80000000e+01,  3.90000000e+01],\n         ...,\n         [-4.00000000e+01, -3.90000000e+01, -3.80000000e+01, ...,\n           3.70000000e+01,  3.80000000e+01,  3.90000000e+01],\n         [-4.00000000e+01, -3.90000000e+01, -3.80000000e+01, ...,\n           3.70000000e+01,  3.80000000e+01,  3.90000000e+01],\n         [-4.00000000e+01, -3.90000000e+01, -3.80000000e+01, ...,\n           3.70000000e+01,  3.80000000e+01,  3.90000000e+01]],\n\n        [[-5.00000000e+01, -5.00000000e+01, -5.00000000e+01, ...,\n          -5.00000000e+01, -5.00000000e+01, -5.00000000e+01],\n         [-4.90000000e+01, -4.90000000e+01, -4.90000000e+01, ...,\n          -4.90000000e+01, -4.90000000e+01, -4.90000000e+01],\n         [-4.80000000e+01, -4.80000000e+01, -4.80000000e+01, ...,\n          -4.80000000e+01, -4.80000000e+01, -4.80000000e+01],\n         ...,\n         [ 4.70000000e+01,  4.70000000e+01,  4.70000000e+01, ...,\n           4.70000000e+01,  4.70000000e+01,  4.70000000e+01],\n         [ 4.80000000e+01,  4.80000000e+01,  4.80000000e+01, ...,\n           4.80000000e+01,  4.80000000e+01,  4.80000000e+01],\n         [ 4.90000000e+01,  4.90000000e+01,  4.90000000e+01, ...,\n           4.90000000e+01,  4.90000000e+01,  4.90000000e+01]],\n\n        [[-3.07034012e+20, -2.20310356e+20, -1.00977442e+20, ...,\n          -4.92314987e+19, -1.02372332e+20, -1.40470580e+20],\n         [-2.53969627e+20, -2.06078065e+20, -1.28728528e+20, ...,\n          -6.80335115e+19, -1.08857455e+20, -1.34646005e+20],\n         [-1.88731072e+20, -1.66574917e+20, -1.25050119e+20, ...,\n          -7.01088453e+19, -9.67187058e+19, -1.11647688e+20],\n         ...,\n         [ 1.11714980e+20,  9.67557009e+19,  7.00937093e+19, ...,\n           1.25183666e+20,  1.66848918e+20,  1.89080249e+20],\n         [ 1.34861630e+20,  1.09007241e+20,  6.80838378e+19, ...,\n           1.28952589e+20,  2.06542597e+20,  2.54581070e+20],\n         [ 1.40789568e+20,  1.02585303e+20,  4.92993893e+19, ...,\n           1.01198017e+20,  2.20886678e+20,  3.07867465e+20]],\n\n        [[-1.37680346e+21, -1.32373907e+21, -1.34833888e+21, ...,\n          -1.62428870e+21, -1.64308352e+21, -1.63725895e+21],\n         [-1.42978351e+21, -1.37063204e+21, -1.37604808e+21, ...,\n          -1.60690446e+21, -1.61566228e+21, -1.60125084e+21],\n         [-1.49258611e+21, -1.43820327e+21, -1.42128402e+21, ...,\n          -1.57599150e+21, -1.57121567e+21, -1.54953209e+21],\n         ...,\n         [ 1.55404584e+21,  1.57587289e+21,  1.58073725e+21, ...,\n           1.42521760e+21,  1.44226602e+21,  1.49688232e+21],\n         [ 1.60594125e+21,  1.62047854e+21,  1.61177085e+21, ...,\n           1.37987090e+21,  1.37451505e+21,  1.43390866e+21],\n         [ 1.64206347e+21,  1.64799141e+21,  1.62921959e+21, ...,\n           1.35208970e+21,  1.32749147e+21,  1.38077786e+21]]],\n\n\n       [[[ 2.11184635e+27,  2.87971703e+27,  3.21544991e+27, ...,\n           4.14392100e+27,  4.30446503e+27,  4.65909874e+27],\n         [ 5.56416005e+27,  6.19925170e+27,  6.59695157e+27, ...,\n           8.21863833e+27,  8.42560054e+27,  8.76347161e+27],\n         [ 9.27824952e+27,  9.75202544e+27,  1.01148434e+28, ...,\n           1.22006495e+28,  1.24061799e+28,  1.26869609e+28],\n         ...,\n         [ 1.27062638e+28,  1.24252730e+28,  1.22196441e+28, ...,\n           1.01297769e+28,  9.76656812e+27,  9.29222821e+27],\n         [ 8.77682408e+27,  8.43859441e+27,  8.23145927e+27, ...,\n           6.60670302e+27,  6.20850592e+27,  5.57254674e+27],\n         [ 4.66620247e+27,  4.31109991e+27,  4.15038671e+27, ...,\n           3.22020256e+27,  2.88400804e+27,  2.11502094e+27]],\n\n        [[-4.00000000e+01, -3.90000000e+01, -3.80000000e+01, ...,\n           3.70000000e+01,  3.80000000e+01,  3.90000000e+01],\n         [-4.00000000e+01, -3.90000000e+01, -3.80000000e+01, ...,\n           3.70000000e+01,  3.80000000e+01,  3.90000000e+01],\n         [-4.00000000e+01, -3.90000000e+01, -3.80000000e+01, ...,\n           3.70000000e+01,  3.80000000e+01,  3.90000000e+01],\n         ...,\n         [-4.00000000e+01, -3.90000000e+01, -3.80000000e+01, ...,\n           3.70000000e+01,  3.80000000e+01,  3.90000000e+01],\n         [-4.00000000e+01, -3.90000000e+01, -3.80000000e+01, ...,\n           3.70000000e+01,  3.80000000e+01,  3.90000000e+01],\n         [-4.00000000e+01, -3.90000000e+01, -3.80000000e+01, ...,\n           3.70000000e+01,  3.80000000e+01,  3.90000000e+01]],\n\n        [[-5.00000000e+01, -5.00000000e+01, -5.00000000e+01, ...,\n          -5.00000000e+01, -5.00000000e+01, -5.00000000e+01],\n         [-4.90000000e+01, -4.90000000e+01, -4.90000000e+01, ...,\n          -4.90000000e+01, -4.90000000e+01, -4.90000000e+01],\n         [-4.80000000e+01, -4.80000000e+01, -4.80000000e+01, ...,\n          -4.80000000e+01, -4.80000000e+01, -4.80000000e+01],\n         ...,\n         [ 4.70000000e+01,  4.70000000e+01,  4.70000000e+01, ...,\n           4.70000000e+01,  4.70000000e+01,  4.70000000e+01],\n         [ 4.80000000e+01,  4.80000000e+01,  4.80000000e+01, ...,\n           4.80000000e+01,  4.80000000e+01,  4.80000000e+01],\n         [ 4.90000000e+01,  4.90000000e+01,  4.90000000e+01, ...,\n           4.90000000e+01,  4.90000000e+01,  4.90000000e+01]],\n\n        [[-7.67870685e+26, -5.51801782e+26, -2.53749943e+26, ...,\n          -1.22592423e+26, -2.57588870e+26, -3.54633701e+26],\n         [-6.35091646e+26, -5.16395760e+26, -3.22298065e+26, ...,\n          -1.70793433e+26, -2.72416639e+26, -3.37871070e+26],\n         [-4.73775915e+26, -4.18296936e+26, -3.13223090e+26, ...,\n          -1.76712496e+26, -2.43155714e+26, -2.80781063e+26],\n         ...,\n         [ 2.80990753e+26,  2.43309870e+26,  1.76779213e+26, ...,\n           3.13528677e+26,  4.18774333e+26,  4.74339911e+26],\n         [ 3.38229677e+26,  2.72682407e+26,  1.70916585e+26, ...,\n           3.22676452e+26,  5.17078144e+26,  6.35959183e+26],\n         [ 3.55102569e+26,  2.57907881e+26,  1.22707742e+26, ...,\n           2.54082913e+26,  5.52590806e+26,  7.68987093e+26]],\n\n        [[-3.45231371e+27, -3.31953467e+27, -3.38150166e+27, ...,\n          -4.07471733e+27, -4.12113550e+27, -4.10437287e+27],\n         [-3.58320159e+27, -3.43615420e+27, -3.44969674e+27, ...,\n          -4.02836425e+27, -4.05085742e+27, -4.01393110e+27],\n         [-3.74102900e+27, -3.60635563e+27, -3.56250800e+27, ...,\n          -3.94995063e+27, -3.93837999e+27, -3.88430656e+27],\n         ...,\n         [ 3.89016776e+27,  3.94439522e+27,  3.95604929e+27, ...,\n           3.56773633e+27,  3.61171494e+27,  3.74664758e+27],\n         [ 4.02003066e+27,  4.05708657e+27,  4.03462867e+27, ...,\n           3.45478716e+27,  3.44128004e+27,  3.58860363e+27],\n         [ 4.11062161e+27,  4.12749450e+27,  4.08107256e+27, ...,\n           3.38650047e+27,  3.32449788e+27,  3.45752579e+27]]]])"
     },
     "execution_count": 13,
     "metadata": {},
     "output_type": "execute_result"
    }
   ],
   "source": [
    "def calculate_field(plate):\n",
    "    gradient = np.gradient(plate)\n",
    "    E_y, E_x = -gradient[0], -gradient[1]\n",
    "    return E_x, E_y\n",
    "\n",
    "\n",
    "resistances = np.linspace(1, 4, num=5)\n",
    "\n",
    "temp_list = []\n",
    "\n",
    "for resistance in resistances:\n",
    "    conductivity = 1 / resistance\n",
    "    plate = solve_poisson(plate, conductivity, 1e-4)\n",
    "    E_x, E_y = calculate_field(plate)\n",
    "    y, x = np.mgrid[-height // 2: height // 2, -width // 2: width // 2]\n",
    "    temp_list.append((plate, x, y, E_x, E_y))\n",
    "    # plot_results(plate, x, y, E_x, E_y, contacts, width, height, title=f'Resistance = {resistance}')\n",
    "\n",
    "temp_list = np.array(temp_list)\n",
    "temp_list\n"
   ],
   "metadata": {
    "collapsed": false,
    "ExecuteTime": {
     "end_time": "2023-10-16T16:50:21.141877Z",
     "start_time": "2023-10-16T16:47:26.786007Z"
    }
   },
   "id": "86515397c97d305"
  },
  {
   "cell_type": "code",
   "execution_count": 14,
   "outputs": [],
   "source": [
    "# Visualisation\n",
    "\n"
   ],
   "metadata": {
    "collapsed": false,
    "ExecuteTime": {
     "end_time": "2023-10-16T16:54:24.388574Z",
     "start_time": "2023-10-16T16:54:24.379541Z"
    }
   },
   "id": "41a8d19ddccbab57"
  },
  {
   "cell_type": "code",
   "execution_count": null,
   "outputs": [],
   "source": [],
   "metadata": {
    "collapsed": false
   },
   "id": "a078a1a82bed393c"
  },
  {
   "cell_type": "code",
   "execution_count": null,
   "outputs": [],
   "source": [],
   "metadata": {
    "collapsed": false
   },
   "id": "61f888734dedb64f"
  }
 ],
 "metadata": {
  "kernelspec": {
   "display_name": "Python 3",
   "language": "python",
   "name": "python3"
  },
  "language_info": {
   "codemirror_mode": {
    "name": "ipython",
    "version": 2
   },
   "file_extension": ".py",
   "mimetype": "text/x-python",
   "name": "python",
   "nbconvert_exporter": "python",
   "pygments_lexer": "ipython2",
   "version": "2.7.6"
  }
 },
 "nbformat": 4,
 "nbformat_minor": 5
}
